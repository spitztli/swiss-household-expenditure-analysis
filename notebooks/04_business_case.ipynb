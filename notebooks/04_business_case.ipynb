{
 "cells": [
  {
   "cell_type": "markdown",
   "metadata": {},
   "source": [
    "# Notebook 4: Business Case - Analyse der Haushaltsausgaben\n",
    "\n",
    "**Projekt:** Analyse der Haushaltsausgaben in der Schweiz (2006-2022)  \n",
    "**Autor:** CAS Information Engineering - ZHAW / [SC02_Gruppe_XX] \n",
    "**Version:** 1.0  \n",
    "**Datum:** 17. Oktober 2025\n",
    "\n",
    "---\n",
    "\n",
    "## Ziel dieses Notebooks\n",
    "\n",
    "Dieses Notebook dokumentiert den **Business Case** für das Projekt gemäß den funktionalen Anforderungen FA-04.1 bis FA-04.5. Es fasst die wichtigsten Ergebnisse der Datenanalyse (Notebook 2) und Visualisierungen (Notebook 3) zusammen und interpretiert sie im Kontext relevanter Fragestellungen für potenzielle Stakeholder.\n",
    "\n",
    "---\n",
    "\n",
    "## Inhaltsverzeichnis\n",
    "\n",
    "1. [Einleitung (FA-04.1)](#1-einleitung)\n",
    "2. [Datenbeschreibung (FA-04.2)](#2-datenbeschreibung)\n",
    "3. [Methodik (FA-04.3)](#3-methodik)\n",
    "4. [Ergebnisse & Interpretation (FA-04.4)](#4-ergebnisse)\n",
    "   - [4.1 Wie haben sich die Gesamtausgaben entwickelt?](#4.1-gesamttrend)\n",
    "   - [4.2 Welche Unterschiede gibt es zwischen Altersgruppen?](#4.2-alter)\n",
    "   - [4.3 Wie unterscheiden sich verschiedene Haushaltstypen?](#4.3-haushaltstyp)\n",
    "   - [4.4 Welche Ausgabenkategorien sind am stärksten gewachsen?](#4.4-wachstum)\n",
    "5. [Schlussfolgerung (FA-04.5)](#5-schlussfolgerung)"
   ]
  },
  {
   "cell_type": "markdown",
   "metadata": {},
   "source": [
    "---\n",
    "\n",
    "## 1. Einleitung (FA-04.1) <a id='1-einleitung'></a>\n",
    "\n",
    "Die Entwicklung der Lebenshaltungskosten und das Konsumverhalten der Haushalte sind zentrale Indikatoren für die wirtschaftliche und soziale Lage eines Landes. Veränderungen in den Ausgabenstrukturen können auf gesellschaftliche Trends, wirtschaftliche Herausforderungen oder politische Maßnahmen hindeuten. Gerade in Zeiten wirtschaftlicher Unsicherheit oder Inflation ist das Verständnis dieser Dynamiken von großer Bedeutung.\n",
    "\n",
    "**Stakeholder**, wie politische Entscheidungsträger, Wirtschaftsverbände, Konsumentenschutzorganisationen und Marktforschungsunternehmen, benötigen fundierte Daten, um Trends zu erkennen, Prognosen zu erstellen und gezielte Maßnahmen abzuleiten. Beispielsweise können Erkenntnisse über die Ausgabenbelastung verschiedener Altersgruppen oder Haushaltstypen in sozialpolitische Diskussionen einfließen oder Unternehmen helfen, ihre Angebote besser auf Zielgruppen zuzuschneiden.\n",
    "\n",
    "**Zielsetzung dieses Projekts** ist es, basierend auf den Daten des Bundesamtes für Statistik (BFS) für die Jahre 2006 bis 2022, die Entwicklung und Struktur der Haushaltsausgaben in der Schweiz zu analysieren. Wir untersuchen dabei folgende **vier Kernfragen**:\n",
    "1.  Wie haben sich die durchschnittlichen monatlichen Haushaltsausgaben insgesamt entwickelt?\n",
    "2.  Welche signifikanten Unterschiede im Ausgabeverhalten zeigen sich zwischen verschiedenen Altersgruppen?\n",
    "3.  Inwieweit unterscheidet sich die Ausgabenstruktur von Familienhaushalten im Vergleich zu Einpersonenhaushalten?\n",
    "4.  Welche Ausgabenkategorien (z.B. Wohnen, Verkehr, Gesundheit) verzeichneten im Untersuchungszeitraum das stärkste Wachstum?"
   ]
  },
  {
   "cell_type": "markdown",
   "metadata": {},
   "source": [
    "---\n",
    "\n",
    "## 2. Datenbeschreibung (FA-04.2) <a id='2-datenbeschreibung'></a>\n",
    "\n",
    "Die für diese Analyse verwendeten Daten stammen ausschließlich vom **Bundesamt für Statistik (BFS)** und wurden über das Portal **opendata.swiss** bezogen.\n",
    "\n",
    "**Zeitraum:** Die Analyse deckt die Jahre **2006 bis 2022** ab. Es ist zu beachten, dass die Daten vom BFS teilweise in mehrjährigen Perioden aggregiert wurden (z.B. 2006-2008, 2009-2011, 2020-2021). Für die Analyse wurde jeweils das **Startjahr** dieser Perioden als Referenzpunkt verwendet.\n",
    "\n",
    "**Datensätze:** Es wurden drei Hauptdatensätze im Excel-Format (`.xlsx`) verwendet:\n",
    "1.  **Gesamtausgaben:** Enthält die durchschnittlichen monatlichen Ausgaben pro Haushalt über alle Kategorien für verschiedene Zeitperioden.\n",
    "2.  **Ausgaben nach Alter:** Differenziert die Ausgaben nach Altersklassen der Haupteinkommensperson (z.B. unter 30, 30-49, 50-64, 65+).\n",
    "3.  **Ausgaben nach Haushaltstyp:** Unterscheidet nach verschiedenen Haushaltstypen (z.B. Einpersonenhaushalt, Paar ohne Kinder, Paar mit Kindern, Einelternhaushalt).\n",
    "\n",
    "**Kategorien:** Die Ausgaben sind detailliert nach dem COICOP-Schema (Classification of Individual Consumption According to Purpose) aufgeschlüsselt, was Vergleiche in Bereichen wie Wohnen, Nahrungsmittel, Verkehr, Gesundheit etc. ermöglicht.\n",
    "\n",
    "> **Hinweis:** Die genauen Links zu den Quelldatensätzen sind in der Datei `data/README.md` dokumentiert."
   ]
  },
  {
   "cell_type": "markdown",
   "metadata": {},
   "source": [
    "---\n",
    "\n",
    "## 3. Methodik (FA-04.3) <a id='3-methodik'></a>\n",
    "\n",
    "Die Analyse erfolgte in mehreren Schritten, die in separaten Jupyter Notebooks dokumentiert sind:\n",
    "\n",
    "1.  **Datenbereinigung (Notebook 1):**\n",
    "    * Laden der rohen Excel-Dateien vom BFS mittels **Pandas**.\n",
    "    * Entfernen von Metadaten und Kopfzeilen.\n",
    "    * Transformation der Daten vom \"breiten\" (wide) Format (mehrere Spalten pro Periode/Gruppe) in ein \"langes\" (long) Format mittels `pandas.melt` für eine einfachere Analyse. Dies beinhaltete das Extrahieren der Altersgruppen und Haushaltstypen aus den Spaltenköpfen.\n",
    "    * Vereinheitlichung der Spaltennamen und Datentypen (Beträge als `float`, Perioden als `int` - unter Verwendung des Startjahres bei Mehrjahresperioden).\n",
    "    * Bereinigung von Textdaten (Entfernen überflüssiger Leerzeichen).\n",
    "    * Export der bereinigten Daten als CSV-Dateien (`data/processed/`).\n",
    "\n",
    "2.  **Datenanalyse (Notebook 2):**\n",
    "    * Laden der bereinigten CSV-Dateien.\n",
    "    * Berechnung der Gesamtausgabenentwicklung über die Jahre, inklusive prozentualer und absoluter Veränderungen.\n",
    "    * Aggregation der durchschnittlichen Ausgaben pro Altersgruppe und Haushaltstyp mittels `groupby()`.\n",
    "    * Identifikation der Top-Ausgabenkategorien für spezifische Gruppen (z.B. Einpersonenhaushalte).\n",
    "    * Berechnung des prozentualen Wachstums pro Ausgabenkategorie zwischen dem frühesten (2006) und dem neuesten Jahr (2022) zur Identifikation der Top-Wachstumskategorien.\n",
    "    * Berechnung deskriptiver Statistiken für ausgewählte Kategorien mittels `.describe()`.\n",
    "    * Export der zentralen Analyseergebnisse (Wachstumsübersicht) als CSV (`outputs/tables/zusammenfassung.csv`).\n",
    "\n",
    "3.  **Visualisierung (Notebook 3):**\n",
    "    * Erstellung einer **Zeitreihe** zur Darstellung der Gesamtausgabenentwicklung mittels **Matplotlib** und **Seaborn**.\n",
    "    * Erstellung einer **Heatmap** (Pflichtvisualisierung) zur Darstellung der durchschnittlichen Ausgaben nach Altersgruppe und Hauptkategorie.\n",
    "    * Erstellung eines **Boxplots** zum Vergleich der Ausgabenverteilung zwischen verschiedenen Haushaltstypen.\n",
    "    * Export aller Visualisierungen als hochauflösende PNG-Dateien (`outputs/figures/`).\n",
    "\n",
    "Die gesamte Verarbeitungskette wurde so gestaltet, dass sie nachvollziehbar, modular und auf Basis der Projektanforderungen effizient ist."
   ]
  },
  {
   "cell_type": "markdown",
   "metadata": {},
   "source": [
    "---\n",
    "\n",
    "## 4. Ergebnisse & Interpretation (FA-04.4) <a id='4-ergebnisse'></a>\n",
    "\n",
    "In diesem Abschnitt beantworten wir die vier Forschungsfragen basierend auf den Analysen und Visualisierungen.\n",
    "\n",
    "*(Hinweis: Die folgenden Interpretationen basieren auf den Ergebnissen aus Notebook 2 und den Grafiken aus Notebook 3. Fügen Sie hier die spezifischen Zahlen und Beobachtungen ein, die Ihre Analyse ergeben hat.)*"
   ]
  },
  {
   "cell_type": "markdown",
   "metadata": {},
   "source": [
    "### 4.1 Wie haben sich die Gesamtausgaben entwickelt? <a id='4.1-gesamttrend'></a>\n",
    "\n",
    "Die Analyse der durchschnittlichen monatlichen Konsumausgaben pro Haushalt zeigt über den Gesamtzeitraum von 2006 bis 2022 einen **moderaten Anstieg**.\n",
    "\n",
    "* **Beobachtung:** Die Ausgaben stiegen von CHF 41,787.16 im Jahr 2006 auf CHF 44,157.64 im Jahr 2022, was einem Gesamtwachstum von 5.67% entspricht *(Zahlen aus Notebook 2, Abschnitt 2)*.\n",
    "* **Visualisierung:** Die Zeitreihengrafik (`zeitreihe_gesamtausgaben.png`) illustriert diesen Trend. Auffällig ist der Anstieg zwischen 2006 und 2015, gefolgt von einem leichten Rückgang bis 2022.\n",
    "\n",
    "**Interpretation:** Trotz Schwankungen zeigt sich eine generelle Tendenz zu steigenden Konsumausgaben. Der leichte Rückgang zwischen 2015 und 2022 könnte auf Effekte der COVID-19-Pandemie oder verändertes Sparverhalten zurückzuführen sein.\n",
    "\n",
    "![Zeitreihe Gesamtausgaben](outputs/figures/zeitreihe_gesamtausgaben.png)"
   ]
  },
  {
   "cell_type": "markdown",
   "metadata": {},
   "source": [
    "### 4.2 Welche Unterschiede gibt es zwischen Altersgruppen? <a id='4.2-alter'></a>\n",
    "\n",
    "Die Analyse nach Altersgruppen offenbart signifikante Unterschiede im Ausgabeverhalten.\n",
    "\n",
    "* **Beobachtung:** Die Altersgruppe **'50-64 Jahre'** weist über alle Kategorien hinweg die **höchsten durchschnittlichen Ausgaben** auf (CHF 103.48), während **'übrige Nichterwerbstätige'** die **niedrigsten** haben (CHF 76.28) *(Zahlen aus Notebook 2, Abschnitt 3)*.\n",
    "* **Visualisierung:** Die Heatmap (`heatmap_alter_kategorien.png`) zeigt deutlich, dass die Ausgaben für 'Wohnen und Energie' bei den 30-49 Jährigen am höchsten sind, während Ausgaben für 'Alkoholische Getränke und Tabakwaren' bei den älteren Gruppen (50+) tendenziell höher sind.\n",
    "\n",
    "**Interpretation:** Das Ausgabeverhalten scheint stark mit der Lebensphase und der Erwerbssituation zusammenzuhängen. Die mittleren Altersgruppen (Erwerbstätige, evtl. mit Kindern) haben tendenziell höhere Ausgaben, während jüngere und ältere (Rentner) Gruppen oft geringere Budgets haben oder andere Prioritäten setzen. Die hohen Ausgaben der 50-64-Jährigen könnten auf einen Höhepunkt im Einkommen und etablierte Lebenshaltungskosten zurückzuführen sein.\n",
    "\n",
    "![Heatmap Alter vs Kategorie](outputs/figures/heatmap_alter_kategorien.png)"
   ]
  },
  {
   "cell_type": "markdown",
   "metadata": {},
   "source": [
    "### 4.3 Wie unterscheiden sich verschiedene Haushaltstypen? <a id='4.3-haushaltstyp'></a>\n",
    "\n",
    "Auch der Haushaltstyp hat einen deutlichen Einfluss auf die Höhe und Struktur der Ausgaben.\n",
    "\n",
    "* **Beobachtung:** **'Paarhaushalte mit Kindern'** haben mit durchschnittlich CHF 109.96 die höchsten monatlichen Gesamtausgaben, gefolgt von **'Anderen Mehrpersonenhaushalten'** (CHF 108.53). Die geringsten Ausgaben weisen **'Paarhaushalte ohne Kinder'** (CHF 64.20) und **'Einpersonenhaushalte'** (CHF 66.82) auf *(Zahlen aus Notebook 2, Abschnitt 4)*.\n",
    "* **Top-Kategorien (Single):** Die drei größten Ausgabenposten für Einpersonenhaushalte sind '50: Konsumausgaben' (CHF 3,701.83), '30: Obligatorische Transferausgaben' (CHF 1,847.33) und '57: Wohnen und Energie' (CHF 1,281.64) *(Ergebnis aus Notebook 2, Abschnitt 4)*.\n",
    "* **Visualisierung:** Der Boxplot (`boxplot_haushaltstyp.png`) verdeutlicht die Unterschiede in der Verteilung der Gesamtausgaben. Man erkennt, dass Paarhaushalte (mit und ohne Kinder) eine größere Streuung aufweisen als Einpersonen- oder Einelternhaushalte.\n",
    "\n",
    "**Interpretation:** Die Anzahl der Personen im Haushalt, insbesondere das Vorhandensein von Kindern, ist erwartungsgemäß ein Haupttreiber für die Höhe der Ausgaben. Die Ausgabenstruktur unterscheidet sich ebenfalls: Familien geben tendenziell mehr für Nahrungsmittel, Bildung und Freizeit aus, während bei Einpersonenhaushalten Wohnkosten einen relativ größeren Anteil am Budget ausmachen könnten.\n",
    "\n",
    "![Boxplot Haushaltstypen](outputs/figures/boxplot_haushaltstyp.png)"
   ]
  },
  {
   "cell_type": "markdown",
   "metadata": {},
   "source": [
    "### 4.4 Welche Ausgabenkategorien sind am stärksten gewachsen? <a id='4.4-wachstum'></a>\n",
    "\n",
    "Der Vergleich der durchschnittlichen Ausgaben pro Kategorie zwischen 2006 und 2022 zeigt teilweise erhebliche Wachstumsraten.\n",
    "\n",
    "* **Beobachtung:** Die Top 5 Kategorien mit dem stärksten prozentualen Wachstum sind *(Liste aus Notebook 2, Abschnitt 5 / `zusammenfassung.csv`)*:\n",
    "    1.  4423.07: Gemachte Einladungen zu Mahlzeiten in Kantinen: +576.92 %\n",
    "    2.  6632.07: Miete von Geräten und von DVDs und CDs: +415.81 %\n",
    "    3.  4203.03: Prämien für die Reiseversicherung: +302.94 %\n",
    "    4.  4423.08: Gemachte Einladungen zu Getränken in Kantinen: +270.40 %\n",
    "    5.  4428.03: Andere verschenkte Waren und Dienstleistungen: +253.49 %\n",
    "* **Statistische Kennzahlen:** Eine genauere Betrachtung der Kategorie '57: Wohnen und Energie' *(Ergebnis aus Notebook 2, Abschnitt 6)* zeigt einen Mittelwert von CHF 1387.55 über die Jahre, mit einer Standardabweichung von CHF 27.44.\n",
    "\n",
    "**Interpretation:** Das starke Wachstum in Kategorien wie Einladungen, Miete von Geräten oder Reiseversicherungen könnte auf verändertes Freizeit- und Konsumverhalten hindeuten. Es ist wichtig zu beachten, dass Kategorien mit geringen absoluten Ausgaben oft hohe prozentuale Wachstumsraten aufweisen können."
   ]
  },
  {
   "cell_type": "markdown",
   "metadata": {},
   "source": [
    "---\n",
    "\n",
    "## 5. Schlussfolgerung (FA-04.5) <a id='5-schlussfolgerung'></a>\n",
    "\n",
    "Die Analyse der Haushaltsausgaben in der Schweiz von 2006 bis 2022 liefert wertvolle Einblicke in das Konsumverhalten und dessen Veränderungen.\n",
    "\n",
    "**Kernergebnisse:**\n",
    "* Die durchschnittlichen monatlichen Konsumausgaben pro Haushalt sind im betrachteten Zeitraum moderat **gestiegen**.\n",
    "* Das **Alter** und der **Haushaltstyp** sind signifikante Faktoren, die sowohl die Höhe als auch die Struktur der Ausgaben beeinflussen. Haushalte der mittleren Altersgruppe und solche mit Kindern weisen tendenziell die höchsten Ausgaben auf.\n",
    "* Bestimmte Ausgabenkategorien, insbesondere im Bereich [Beispiele: Dienstleistungen, Kommunikation, Gesundheit], zeigen ein **überdurchschnittliches Wachstum**, was auf langfristige gesellschaftliche und technologische Trends hindeutet.\n",
    "\n",
    "**Limitationen:**\n",
    "* Die Daten des BFS liegen teilweise nur für **mehrjährige Perioden** aggregiert vor. Die Analyse verwendet das Startjahr als Referenz, was die zeitliche Granularität einschränkt und eine kontinuierliche jährliche Betrachtung verhindert.\n",
    "* Die Analyse basiert auf **Durchschnittswerten** pro Haushalt und berücksichtigt keine regionalen Unterschiede oder Einkommensverteilungen innerhalb der Gruppen.\n",
    "* Externe Faktoren (z.B. spezifische politische Maßnahmen, globale Ereignisse wie die Finanzkrise 2008 oder die COVID-19-Pandemie) wurden in dieser Analyse nicht explizit modelliert, könnten aber die beobachteten Trends beeinflusst haben.\n",
    "\n",
    "**Ausblick:**\n",
    "Die Ergebnisse können als Grundlage für detailliertere Analysen dienen. Mögliche Folgeprojekte könnten sein:\n",
    "* Untersuchung regionaler Unterschiede.\n",
    "* Analyse des Einflusses von Einkommensklassen.\n",
    "* Prognose zukünftiger Ausgabenentwicklungen unter Berücksichtigung makroökonomischer Indikatoren.\n",
    "* Vergleich mit anderen Ländern.\n",
    "\n",
    "Insgesamt bietet diese Analyse eine solide Basis für Stakeholder, um das Konsumverhalten in der Schweiz besser zu verstehen und fundierte Entscheidungen zu treffen."
   ]
  }
 ],
 "metadata": {
  "kernelspec": {
   "display_name": "venv",
   "language": "python",
   "name": "python3"
  },
  "language_info": {
   "codemirror_mode": {
    "name": "ipython",
    "version": 3
   },
   "file_extension": ".py",
   "mimetype": "text/x-python",
   "name": "python",
   "nbconvert_exporter": "python",
   "pygments_lexer": "ipython3",
   "version": "3.13.7"
  }
 },
 "nbformat": 4,
 "nbformat_minor": 4
}
