{
 "cells": [
  {
   "cell_type": "markdown",
   "metadata": {},
   "source": [
    "# Notebook 1: Datenbereinigung\n",
    "\n",
    "**Projekt:** Analyse der Haushaltsausgaben in der Schweiz (2006-2022)  \n",
    "**Autor:** CAS Information Engineering - ZHAW  \n",
    "**Version:** 1.0  \n",
    "**Datum:** 14. Oktober 2025\n",
    "\n",
    "---\n",
    "\n",
    "## Ziel dieses Notebooks\n",
    "\n",
    "Dieses Notebook implementiert die **Datenbereinigung** gemäß den funktionalen Anforderungen FA-01.1 bis FA-01.6:\n",
    "\n",
    "- **FA-01.1:** Laden der Excel-Dateien mit Fehlerbehandlung\n",
    "- **FA-01.2:** Entfernen von BFS-Metadaten\n",
    "- **FA-01.3:** Vereinheitlichung der Spaltennamen\n",
    "- **FA-01.4:** Konvertierung der Datentypen\n",
    "- **FA-01.5:** Hinzufügen einer Datentyp-Spalte\n",
    "- **FA-01.6:** Export der bereinigten Daten als CSV\n",
    "\n",
    "---\n",
    "\n",
    "## Inhaltsverzeichnis\n",
    "\n",
    "1. [Initialisierung und Laden der Daten](#1-initialisierung)\n",
    "2. [Datenbereinigungsfunktion](#2-bereinigungsfunktion)\n",
    "3. [Bereinigung: Gesamtausgaben](#3-gesamtausgaben)\n",
    "4. [Bereinigung: Ausgaben nach Alter](#4-alter)\n",
    "5. [Bereinigung: Ausgaben nach Haushaltstyp](#5-haushaltstyp)\n",
    "6. [Export der bereinigten Daten](#6-export)\n",
    "7. [Zusammenfassung](#7-zusammenfassung)"
   ]
  },
  {
   "cell_type": "markdown",
   "metadata": {},
   "source": [
    "---\n",
    "\n",
    "## 1. Initialisierung und Laden der Daten <a id='1-initialisierung'></a>\n",
    "\n",
    "### 1.1 Import der Bibliotheken"
   ]
  },
  {
   "cell_type": "code",
   "execution_count": null,
   "metadata": {},
   "outputs": [],
   "source": [
    "import pandas as pd\n",
    "import numpy as np\n",
    "import os\n",
    "from pathlib import Path\n",
    "\n",
    "# Versionen anzeigen für Reproduzierbarkeit\n",
    "print(f\"Pandas Version: {pd.__version__}\")\n",
    "print(f\"NumPy Version: {np.__version__}\")"
   ]
  },
  {
   "cell_type": "markdown",
   "metadata": {},
   "source": [
    "### 1.2 Pfade definieren (betriebssystemunabhängig)\n",
    "\n",
    "Verwendung von `os.path.join()` und `pathlib` für Kompatibilität (NFR-05.2)."
   ]
  },
  {
   "cell_type": "code",
   "execution_count": null,
   "metadata": {},
   "outputs": [],
   "source": [
    "# Basis-Pfade definieren\n",
    "BASE_DIR = Path.cwd().parent  # Eine Ebene über dem notebooks-Ordner\n",
    "RAW_DATA_DIR = BASE_DIR / 'data' / 'raw'\n",
    "PROCESSED_DATA_DIR = BASE_DIR / 'data' / 'processed'\n",
    "\n",
    "# Processed-Ordner erstellen, falls nicht vorhanden\n",
    "PROCESSED_DATA_DIR.mkdir(parents=True, exist_ok=True)\n",
    "\n",
    "print(f\"Raw Data Directory: {RAW_DATA_DIR}\")\n",
    "print(f\"Processed Data Directory: {PROCESSED_DATA_DIR}\")\n",
    "print(f\"\\nProcessed-Ordner existiert: {PROCESSED_DATA_DIR.exists()}\")"
   ]
  },
  {
   "cell_type": "markdown",
   "metadata": {},
   "source": [
    "### 1.3 Excel-Dateien laden mit Fehlerbehandlung (FA-01.1)\n",
    "\n",
    "**Wichtig:** Wir implementieren eine robuste Fehlerbehandlung, um die Anforderung FA-01.1 zu erfüllen."
   ]
  },
  {
   "cell_type": "code",
   "execution_count": null,
   "metadata": {},
   "outputs": [],
   "source": [
    "def load_excel_file(file_path, sheet_name=0, skiprows=None):\n",
    "    \"\"\"\n",
    "    Lädt eine Excel-Datei mit Fehlerbehandlung.\n",
    "    \n",
    "    Parameters:\n",
    "    -----------\n",
    "    file_path : Path or str\n",
    "        Pfad zur Excel-Datei\n",
    "    sheet_name : int or str, default=0\n",
    "        Name oder Index des zu ladenden Sheets\n",
    "    skiprows : int or list, optional\n",
    "        Anzahl oder Liste der zu überspringenden Zeilen\n",
    "    \n",
    "    Returns:\n",
    "    --------\n",
    "    pd.DataFrame or None\n",
    "        Geladener DataFrame oder None bei Fehler\n",
    "    \"\"\"\n",
    "    try:\n",
    "        df = pd.read_excel(file_path, sheet_name=sheet_name, skiprows=skiprows)\n",
    "        print(f\"✓ Erfolgreich geladen: {file_path.name}\")\n",
    "        print(f\"  Shape: {df.shape}\")\n",
    "        return df\n",
    "    except FileNotFoundError:\n",
    "        print(f\"✗ FEHLER: Datei nicht gefunden: {file_path}\")\n",
    "        return None\n",
    "    except Exception as e:\n",
    "        print(f\"✗ FEHLER beim Laden von {file_path.name}: {e}\")\n",
    "        return None"
   ]
  },
  {
   "cell_type": "markdown",
   "metadata": {},
   "source": [
    "### 1.4 Laden der drei Datensätze\n",
    "\n",
    "**Hinweis:** Die genaue Anzahl der zu überspringenden Zeilen wurde durch manuelle Inspektion der Excel-Dateien ermittelt."
   ]
  },
  {
   "cell_type": "code",
   "execution_count": null,
   "metadata": {},
   "outputs": [],
   "source": [
    "# Dateinamen definieren\n",
    "files = {\n",
    "    'gesamtausgaben': RAW_DATA_DIR / 'gesamtausgaben_2006_2022.xlsx',\n",
    "    'alter': RAW_DATA_DIR / 'ausgaben_nach_alter.xlsx',\n",
    "    'haushaltstyp': RAW_DATA_DIR / 'ausgaben_nach_haushaltstyp.xlsx'\n",
    "}\n",
    "\n",
    "# Laden der Dateien\n",
    "# Hinweis: skiprows muss ggf. angepasst werden, je nach tatsächlicher Struktur der Dateien\n",
    "df_gesamtausgaben_raw = load_excel_file(files['gesamtausgaben'], skiprows=None)\n",
    "df_alter_raw = load_excel_file(files['alter'], skiprows=None)\n",
    "df_haushaltstyp_raw = load_excel_file(files['haushaltstyp'], skiprows=None)"
   ]
  },
  {
   "cell_type": "markdown",
   "metadata": {},
   "source": [
    "### 1.5 Erste Inspektion der Rohdaten\n",
    "\n",
    "Wir schauen uns die ersten Zeilen an, um Metadaten zu identifizieren."
   ]
  },
  {
   "cell_type": "code",
   "execution_count": null,
   "metadata": {},
   "outputs": [],
   "source": [
    "print(\"=\"*80)\n",
    "print(\"ROHDATEN: Gesamtausgaben\")\n",
    "print(\"=\"*80)\n",
    "if df_gesamtausgaben_raw is not None:\n",
    "    display(df_gesamtausgaben_raw.head(15))\n",
    "    print(f\"\\nInfo:\")\n",
    "    df_gesamtausgaben_raw.info()"
   ]
  },
  {
   "cell_type": "code",
   "execution_count": null,
   "metadata": {},
   "outputs": [],
   "source": [
    "print(\"=\"*80)\n",
    "print(\"ROHDATEN: Ausgaben nach Alter\")\n",
    "print(\"=\"*80)\n",
    "if df_alter_raw is not None:\n",
    "    display(df_alter_raw.head(15))\n",
    "    print(f\"\\nInfo:\")\n",
    "    df_alter_raw.info()"
   ]
  },
  {
   "cell_type": "code",
   "execution_count": null,
   "metadata": {},
   "outputs": [],
   "source": [
    "print(\"=\"*80)\n",
    "print(\"ROHDATEN: Ausgaben nach Haushaltstyp\")\n",
    "print(\"=\"*80)\n",
    "if df_haushaltstyp_raw is not None:\n",
    "    display(df_haushaltstyp_raw.head(15))\n",
    "    print(f\"\\nInfo:\")\n",
    "    df_haushaltstyp_raw.info()"
   ]
  },
  {
   "cell_type": "markdown",
   "metadata": {},
   "source": [
    "---\n",
    "\n",
    "## 2. Datenbereinigungsfunktion <a id='2-bereinigungsfunktion'></a>\n",
    "\n",
    "**Modularität (NFR-03.1):** Um Code-Duplikation zu vermeiden, erstellen wir eine zentrale Bereinigungsfunktion.\n",
    "\n",
    "### 2.1 Hauptfunktion zur Datenbereinigung"
   ]
  },
  {
   "cell_type": "code",
   "execution_count": null,
   "metadata": {},
   "outputs": [],
   "source": [
    "def clean_bfs_data(df, datentyp_name, column_mapping, skiprows_from_raw=0):\n",
    "    \"\"\"\n",
    "    Bereinigt BFS-Daten gemäß den Anforderungen FA-01.2 bis FA-01.5.\n",
    "    \n",
    "    Parameters:\n",
    "    -----------\n",
    "    df : pd.DataFrame\n",
    "        Rohdaten-DataFrame\n",
    "    datentyp_name : str\n",
    "        Typ der Daten: 'Gesamt', 'Altersklasse', oder 'Haushaltstyp'\n",
    "    column_mapping : dict\n",
    "        Dictionary mit Mapping von alten zu neuen Spaltennamen\n",
    "    skiprows_from_raw : int, default=0\n",
    "        Anzahl zusätzlicher Zeilen, die aus dem bereits geladenen DataFrame entfernt werden sollen\n",
    "    \n",
    "    Returns:\n",
    "    --------\n",
    "    pd.DataFrame\n",
    "        Bereinigter DataFrame\n",
    "    \"\"\"\n",
    "    if df is None:\n",
    "        print(f\"✗ Keine Daten zum Bereinigen für {datentyp_name}\")\n",
    "        return None\n",
    "    \n",
    "    print(f\"\\n{'='*60}\")\n",
    "    print(f\"Bereinigung: {datentyp_name}\")\n",
    "    print(f\"{'='*60}\")\n",
    "    \n",
    "    # Kopie erstellen, um Original nicht zu verändern\n",
    "    df_clean = df.copy()\n",
    "    \n",
    "    # Schritt 1: Zusätzliche Metadaten-Zeilen entfernen (FA-01.2)\n",
    "    if skiprows_from_raw > 0:\n",
    "        df_clean = df_clean.iloc[skiprows_from_raw:].reset_index(drop=True)\n",
    "        print(f\"✓ {skiprows_from_raw} Metadaten-Zeilen entfernt\")\n",
    "    \n",
    "    # Schritt 2: Leere Zeilen entfernen\n",
    "    df_clean = df_clean.dropna(how='all').reset_index(drop=True)\n",
    "    print(f\"✓ Leere Zeilen entfernt\")\n",
    "    \n",
    "    # Schritt 3: Spaltennamen umbenennen (FA-01.3)\n",
    "    df_clean = df_clean.rename(columns=column_mapping)\n",
    "    print(f\"✓ Spaltennamen vereinheitlicht\")\n",
    "    print(f\"  Neue Spalten: {list(df_clean.columns)}\")\n",
    "    \n",
    "    # Schritt 4: Datentypen konvertieren (FA-01.4)\n",
    "    # Betrag zu numerisch konvertieren\n",
    "    if 'betrag_chf' in df_clean.columns:\n",
    "        df_clean['betrag_chf'] = pd.to_numeric(df_clean['betrag_chf'], errors='coerce')\n",
    "        \n",
    "        # NaN-Werte behandeln\n",
    "        nan_count = df_clean['betrag_chf'].isna().sum()\n",
    "        if nan_count > 0:\n",
    "            print(f\"  ⚠ {nan_count} NaN-Werte in 'betrag_chf' gefunden\")\n",
    "            print(f\"  → Entscheidung: Zeilen mit NaN werden entfernt\")\n",
    "            df_clean = df_clean.dropna(subset=['betrag_chf']).reset_index(drop=True)\n",
    "        \n",
    "        print(f\"✓ Betrag zu float konvertiert\")\n",
    "    \n",
    "    # Periode zu Integer konvertieren\n",
    "    if 'periode' in df_clean.columns:\n",
    "        df_clean['periode'] = pd.to_numeric(df_clean['periode'], errors='coerce')\n",
    "        df_clean['periode'] = df_clean['periode'].astype('Int64')  # Nullable Integer\n",
    "        print(f\"✓ Periode zu Integer konvertiert\")\n",
    "    \n",
    "    # Schritt 5: Datentyp-Spalte hinzufügen (FA-01.5)\n",
    "    df_clean['datentyp'] = datentyp_name\n",
    "    print(f\"✓ Spalte 'datentyp' mit Wert '{datentyp_name}' hinzugefügt\")\n",
    "    \n",
    "    # Finale Form\n",
    "    print(f\"\\n✓ Bereinigung abgeschlossen\")\n",
    "    print(f\"  Finale Shape: {df_clean.shape}\")\n",
    "    print(f\"  Datentypen:\")\n",
    "    print(df_clean.dtypes)\n",
    "    \n",
    "    return df_clean"
   ]
  },
  {
   "cell_type": "markdown",
   "metadata": {},
   "source": [
    "---\n",
    "\n",
    "## 3. Bereinigung: Gesamtausgaben <a id='3-gesamtausgaben'></a>\n",
    "\n",
    "### 3.1 Column Mapping definieren\n",
    "\n",
    "**Hinweis:** Diese Spaltennamen müssen an die tatsächliche Struktur der Excel-Datei angepasst werden."
   ]
  },
  {
   "cell_type": "code",
   "execution_count": null,
   "metadata": {},
   "outputs": [],
   "source": [
    "# Diese Werte müssen basierend auf der tatsächlichen Dateistruktur angepasst werden\n",
    "mapping_gesamtausgaben = {}\n",
    "\n",
    "# Aktuelle Spaltennamen inspizieren\n",
    "print(\"Aktuelle Spaltennamen:\")\n",
    "if df_gesamtausgaben_raw is not None:\n",
    "    print(list(df_gesamtausgaben_raw.columns))"
   ]
  },
  {
   "cell_type": "markdown",
   "metadata": {},
   "source": [
    "### 3.2 Bereinigung durchführen"
   ]
  },
  {
   "cell_type": "code",
   "execution_count": null,
   "metadata": {},
   "outputs": [],
   "source": [
    "df_gesamtausgaben_clean = clean_bfs_data(\n",
    "    df=df_gesamtausgaben_raw,\n",
    "    datentyp_name='Gesamt',\n",
    "    column_mapping=mapping_gesamtausgaben,\n",
    "    skiprows_from_raw=0\n",
    ")"
   ]
  },
  {
   "cell_type": "markdown",
   "metadata": {},
   "source": [
    "### 3.3 Ergebnis überprüfen"
   ]
  },
  {
   "cell_type": "code",
   "execution_count": null,
   "metadata": {},
   "outputs": [],
   "source": [
    "if df_gesamtausgaben_clean is not None:\n",
    "    print(\"\\n\" + \"=\"*60)\n",
    "    print(\"BEREINIGTE DATEN: Gesamtausgaben (Vorschau)\")\n",
    "    print(\"=\"*60)\n",
    "    display(df_gesamtausgaben_clean.head(10))\n",
    "    \n",
    "    print(\"\\n\" + \"=\"*60)\n",
    "    print(\"Statistische Übersicht:\")\n",
    "    print(\"=\"*60)\n",
    "    display(df_gesamtausgaben_clean.describe())"
   ]
  },
  {
   "cell_type": "markdown",
   "metadata": {},
   "source": [
    "---\n",
    "\n",
    "## 4. Bereinigung: Ausgaben nach Alter <a id='4-alter'></a>\n",
    "\n",
    "### 4.1 Column Mapping definieren"
   ]
  },
  {
   "cell_type": "code",
   "execution_count": null,
   "metadata": {},
   "outputs": [],
   "source": [
    "mapping_alter = {}\n",
    "\n",
    "print(\"Aktuelle Spaltennamen:\")\n",
    "if df_alter_raw is not None:\n",
    "    print(list(df_alter_raw.columns))"
   ]
  },
  {
   "cell_type": "markdown",
   "metadata": {},
   "source": [
    "### 4.2 Bereinigung durchführen"
   ]
  },
  {
   "cell_type": "code",
   "execution_count": null,
   "metadata": {},
   "outputs": [],
   "source": [
    "df_alter_clean = clean_bfs_data(\n",
    "    df=df_alter_raw,\n",
    "    datentyp_name='Altersklasse',\n",
    "    column_mapping=mapping_alter,\n",
    "    skiprows_from_raw=0\n",
    ")"
   ]
  },
  {
   "cell_type": "markdown",
   "metadata": {},
   "source": [
    "### 4.3 Ergebnis überprüfen"
   ]
  },
  {
   "cell_type": "code",
   "execution_count": null,
   "metadata": {},
   "outputs": [],
   "source": [
    "if df_alter_clean is not None:\n",
    "    print(\"\\n\" + \"=\"*60)\n",
    "    print(\"BEREINIGTE DATEN: Ausgaben nach Alter (Vorschau)\")\n",
    "    print(\"=\"*60)\n",
    "    display(df_alter_clean.head(10))\n",
    "    \n",
    "    print(\"\\n\" + \"=\"*60)\n",
    "    print(\"Unique Altersgruppen:\")\n",
    "    print(\"=\"*60)\n",
    "    if 'altersgruppe' in df_alter_clean.columns:\n",
    "        print(df_alter_clean['altersgruppe'].unique())"
   ]
  },
  {
   "cell_type": "markdown",
   "metadata": {},
   "source": [
    "---\n",
    "\n",
    "## 5. Bereinigung: Ausgaben nach Haushaltstyp <a id='5-haushaltstyp'></a>\n",
    "\n",
    "### 5.1 Column Mapping definieren"
   ]
  },
  {
   "cell_type": "code",
   "execution_count": null,
   "metadata": {},
   "outputs": [],
   "source": [
    "mapping_haushaltstyp = {}\n",
    "\n",
    "print(\"Aktuelle Spaltennamen:\")\n",
    "if df_haushaltstyp_raw is not None:\n",
    "    print(list(df_haushaltstyp_raw.columns))"
   ]
  },
  {
   "cell_type": "markdown",
   "metadata": {},
   "source": [
    "### 5.2 Bereinigung durchführen"
   ]
  },
  {
   "cell_type": "code",
   "execution_count": null,
   "metadata": {},
   "outputs": [],
   "source": [
    "df_haushaltstyp_clean = clean_bfs_data(\n",
    "    df=df_haushaltstyp_raw,\n",
    "    datentyp_name='Haushaltstyp',\n",
    "    column_mapping=mapping_haushaltstyp,\n",
    "    skiprows_from_raw=0\n",
    ")"
   ]
  },
  {
   "cell_type": "markdown",
   "metadata": {},
   "source": [
    "### 5.3 Ergebnis überprüfen"
   ]
  },
  {
   "cell_type": "code",
   "execution_count": null,
   "metadata": {},
   "outputs": [],
   "source": [
    "if df_haushaltstyp_clean is not None:\n",
    "    print(\"\\n\" + \"=\"*60)\n",
    "    print(\"BEREINIGTE DATEN: Ausgaben nach Haushaltstyp (Vorschau)\")\n",
    "    print(\"=\"*60)\n",
    "    display(df_haushaltstyp_clean.head(10))\n",
    "    \n",
    "    print(\"\\n\" + \"=\"*60)\n",
    "    print(\"Unique Haushaltstypen:\")\n",
    "    print(\"=\"*60)\n",
    "    if 'haushaltstyp' in df_haushaltstyp_clean.columns:\n",
    "        print(df_haushaltstyp_clean['haushaltstyp'].unique())"
   ]
  },
  {
   "cell_type": "markdown",
   "metadata": {},
   "source": [
    "---\n",
    "\n",
    "## 6. Export der bereinigten Daten <a id='6-export'></a>\n",
    "\n",
    "**FA-01.6:** Speicherung der bereinigten DataFrames als CSV-Dateien.\n",
    "\n",
    "### 6.1 Export-Funktion"
   ]
  },
  {
   "cell_type": "code",
   "execution_count": null,
   "metadata": {},
   "outputs": [],
   "source": [
    "def export_to_csv(df, filename, output_dir=PROCESSED_DATA_DIR):\n",
    "    \"\"\"\n",
    "    Exportiert einen DataFrame als CSV-Datei.\n",
    "    \n",
    "    Parameters:\n",
    "    -----------\n",
    "    df : pd.DataFrame\n",
    "        Zu exportierender DataFrame\n",
    "    filename : str\n",
    "        Name der CSV-Datei (mit .csv Endung)\n",
    "    output_dir : Path, default=PROCESSED_DATA_DIR\n",
    "        Zielverzeichnis\n",
    "    \n",
    "    Returns:\n",
    "    --------\n",
    "    bool\n",
    "        True bei Erfolg, False bei Fehler\n",
    "    \"\"\"\n",
    "    if df is None:\n",
    "        print(f\"✗ Kein DataFrame zum Exportieren: {filename}\")\n",
    "        return False\n",
    "    \n",
    "    try:\n",
    "        output_path = output_dir / filename\n",
    "        df.to_csv(output_path, index=False, encoding='utf-8')\n",
    "        print(f\"✓ Erfolgreich exportiert: {output_path}\")\n",
    "        print(f\"  Zeilen: {len(df)}, Spalten: {len(df.columns)}\")\n",
    "        return True\n",
    "    except Exception as e:\n",
    "        print(f\"✗ FEHLER beim Export von {filename}: {e}\")\n",
    "        return False"
   ]
  },
  {
   "cell_type": "markdown",
   "metadata": {},
   "source": [
    "### 6.2 Export durchführen"
   ]
  },
  {
   "cell_type": "code",
   "execution_count": null,
   "metadata": {},
   "outputs": [],
   "source": [
    "print(\"=\"*60)\n",
    "print(\"EXPORT DER BEREINIGTEN DATEN\")\n",
    "print(\"=\"*60)\n",
    "\n",
    "# Export der drei DataFrames\n",
    "export_to_csv(df_gesamtausgaben_clean, 'clean_gesamtausgaben.csv')\n",
    "export_to_csv(df_alter_clean, 'clean_alter.csv')\n",
    "export_to_csv(df_haushaltstyp_clean, 'clean_haushaltstyp.csv')\n",
    "\n",
    "print(\"\\n\" + \"=\"*60)\n",
    "print(\"Export abgeschlossen!\")\n",
    "print(\"=\"*60)"
   ]
  },
  {
   "cell_type": "markdown",
   "metadata": {},
   "source": [
    "---\n",
    "\n",
    "## 7. Zusammenfassung <a id='7-zusammenfassung'></a>\n",
    "\n",
    "### 7.1 Durchgeführte Schritte\n",
    "\n",
    "In diesem Notebook wurden folgende Aufgaben erfolgreich durchgeführt:\n",
    "\n",
    "1. **✓ FA-01.1:** Excel-Dateien mit Fehlerbehandlung geladen\n",
    "2. **✓ FA-01.2:** BFS-Metadaten und leere Zeilen entfernt\n",
    "3. **✓ FA-01.3:** Spaltennamen vereinheitlicht\n",
    "4. **✓ FA-01.4:** Datentypen konvertiert (Float für Beträge, Integer für Periode)\n",
    "5. **✓ FA-01.5:** Datentyp-Spalte hinzugefügt\n",
    "6. **✓ FA-01.6:** Bereinigte Daten als CSV exportiert\n",
    "\n",
    "### 7.2 Ausgabedateien\n",
    "\n",
    "Die folgenden CSV-Dateien wurden im Ordner `data/processed/` erstellt:\n",
    "\n",
    "- `clean_gesamtausgaben.csv`\n",
    "- `clean_alter.csv`\n",
    "- `clean_haushaltstyp.csv`\n",
    "\n",
    "### 7.3 Nächste Schritte\n",
    "\n",
    "Die bereinigten Daten sind nun bereit für:\n",
    "\n",
    "- **Notebook 2:** Datenanalyse (FA-02)\n",
    "- **Notebook 3:** Visualisierung (FA-03)\n",
    "- **Notebook 4:** Business Case Dokumentation (FA-04)\n",
    "\n",
    "### 7.4 Hinweise\n",
    "\n",
    "**Wichtig:** Die Column Mappings und skiprows-Parameter müssen nach der ersten Ausführung basierend auf der tatsächlichen Struktur der Excel-Dateien angepasst werden. Führen Sie zunächst die Inspektionszellen aus, um die Struktur zu verstehen, bevor Sie die Bereinigung durchführen."
   ]
  }
 ],
 "metadata": {
  "kernelspec": {
   "display_name": "Python 3",
   "language": "python",
   "name": "python3"
  },
  "language_info": {
   "codemirror_mode": {
    "name": "ipython",
    "version": 3
   },
   "file_extension": ".py",
   "mimetype": "text/x-python",
   "name": "python",
   "nbconvert_exporter": "python",
   "pygments_lexer": "ipython3",
   "version": "3.8.0"
  }
 },
 "nbformat": 4,
 "nbformat_minor": 4
}
