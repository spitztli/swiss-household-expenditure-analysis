{
 "cells": [
  {
   "cell_type": "markdown",
   "metadata": {},
   "source": [
    "# Notebook 2: Datenanalyse\n",
    "\n",
    "**Projekt:** Analyse der Haushaltsausgaben in der Schweiz (2006-2022)  \n",
    "**Autor:** CAS Information Engineering - ZHAW  \n",
    "**Version:** 1.0  \n",
    "**Datum:** 14. Oktober 2025\n",
    "\n",
    "---\n",
    "\n",
    "## Ziel dieses Notebooks\n",
    "\n",
    "Dieses Notebook implementiert die **Datenanalyse** gemäß den funktionalen Anforderungen FA-02.1 bis FA-02.7:\n",
    "\n",
    "- **FA-02.1:** Laden der bereinigten Daten\n",
    "- **FA-02.2:** Analyse der Gesamtausgabenentwicklung\n",
    "- **FA-02.3:** Analyse nach Altersgruppen\n",
    "- **FA-02.4:** Analyse nach Haushaltstyp\n",
    "- **FA-02.5:** Top-Wachstumskategorien identifizieren\n",
    "- **FA-02.6:** Statistische Kennzahlen berechnen\n",
    "- **FA-02.7:** Export der Analyseergebnisse\n",
    "\n",
    "---\n",
    "\n",
    "## Inhaltsverzeichnis\n",
    "\n",
    "1. [Initialisierung und Laden der bereinigten Daten](#1-initialisierung)\n",
    "2. [Gesamtausgabenentwicklung](#2-gesamtausgaben)\n",
    "3. [Analyse nach Altersgruppen](#3-altersgruppen)\n",
    "4. [Analyse nach Haushaltstyp](#4-haushaltstyp)\n",
    "5. [Top-Wachstumskategorien](#5-wachstum)\n",
    "6. [Statistische Kennzahlen](#6-statistik)\n",
    "7. [Export der Analyseergebnisse](#7-export)\n",
    "8. [Zusammenfassung](#8-zusammenfassung)"
   ]
  },
  {
   "cell_type": "markdown",
   "metadata": {},
   "source": [
    "---\n",
    "\n",
    "## 1. Initialisierung und Laden der bereinigten Daten <a id='1-initialisierung'></a>\n",
    "\n",
    "### 1.1 Import der Bibliotheken\n",
    "\n",
    "Wir importieren die notwendigen Bibliotheken für die Datenanalyse."
   ]
  },
  {
   "cell_type": "code",
   "execution_count": null,
   "metadata": {},
   "outputs": [],
   "source": [
    "import pandas as pd\n",
    "import numpy as np\n",
    "import os\n",
    "from pathlib import Path\n",
    "import warnings\n",
    "warnings.filterwarnings('ignore')\n",
    "\n",
    "# Versionen anzeigen für Reproduzierbarkeit\n",
    "print(f\"Pandas Version: {pd.__version__}\")\n",
    "print(f\"NumPy Version: {np.__version__}\")"
   ]
  },
  {
   "cell_type": "markdown",
   "metadata": {},
   "source": [
    "### 1.2 Pfade definieren"
   ]
  },
  {
   "cell_type": "code",
   "execution_count": null,
   "metadata": {},
   "outputs": [],
   "source": [
    "# Basis-Pfade definieren\n",
    "BASE_DIR = Path.cwd().parent\n",
    "PROCESSED_DATA_DIR = BASE_DIR / 'data' / 'processed'\n",
    "OUTPUT_TABLES_DIR = BASE_DIR / 'outputs' / 'tables'\n",
    "\n",
    "# Output-Ordner erstellen, falls nicht vorhanden\n",
    "OUTPUT_TABLES_DIR.mkdir(parents=True, exist_ok=True)\n",
    "\n",
    "print(f\"Processed Data Directory: {PROCESSED_DATA_DIR}\")\n",
    "print(f\"Output Tables Directory: {OUTPUT_TABLES_DIR}\")\n",
    "print(f\"Processed-Ordner existiert: {PROCESSED_DATA_DIR.exists()}\")\n",
    "print(f\"Output-Ordner existiert: {OUTPUT_TABLES_DIR.exists()}\")"
   ]
  },
  {
   "cell_type": "markdown",
   "metadata": {},
   "source": [
    "### 1.3 Laden der bereinigten CSV-Dateien (FA-02.1)"
   ]
  },
  {
   "cell_type": "code",
   "execution_count": null,
   "metadata": {},
   "outputs": [],
   "source": [
    "def load_cleaned_data(filename, data_dir=PROCESSED_DATA_DIR):\n",
    "    try:\n",
    "        file_path = data_dir / filename\n",
    "        df = pd.read_csv(file_path)\n",
    "        print(f\"Erfolgreich geladen: {filename}\")\n",
    "        print(f\"  Shape: {df.shape}\")\n",
    "        return df\n",
    "    except FileNotFoundError:\n",
    "        print(f\"FEHLER: Datei nicht gefunden: {filename}\")\n",
    "        print(f\"  Bitte führen Sie zuerst Notebook 01 aus!\")\n",
    "        return None\n",
    "    except Exception as e:\n",
    "        print(f\"FEHLER beim Laden von {filename}: {e}\")\n",
    "        return None"
   ]
  },
  {
   "cell_type": "code",
   "execution_count": null,
   "metadata": {},
   "outputs": [],
   "source": [
    "print(\"LADEN DER BEREINIGTEN DATEN\")\n",
    "print(\"=\"*60)\n",
    "\n",
    "df_gesamt = load_cleaned_data('clean_gesamtausgaben.csv')\n",
    "df_alter = load_cleaned_data('clean_alter.csv')\n",
    "df_haushaltstyp = load_cleaned_data('clean_haushaltstyp.csv')\n",
    "\n",
    "print(\"=\"*60)\n",
    "print(\"Laden abgeschlossen!\")"
   ]
  },
  {
   "cell_type": "markdown",
   "metadata": {},
   "source": [
    "### 1.4 Überprüfung der geladenen Daten"
   ]
  },
  {
   "cell_type": "code",
   "execution_count": null,
   "metadata": {},
   "outputs": [],
   "source": [
    "if df_gesamt is not None:\n",
    "    print(\"GESAMTAUSGABEN - Überprüfung\")\n",
    "    df_gesamt.info()\n",
    "    display(df_gesamt.head())"
   ]
  },
  {
   "cell_type": "code",
   "execution_count": null,
   "metadata": {},
   "outputs": [],
   "source": [
    "if df_alter is not None:\n",
    "    print(\"AUSGABEN NACH ALTER - Überprüfung\")\n",
    "    df_alter.info()\n",
    "    display(df_alter.head())\n",
    "    if 'altersgruppe' in df_alter.columns:\n",
    "        print(\"Altersgruppen:\", df_alter['altersgruppe'].unique())"
   ]
  },
  {
   "cell_type": "code",
   "execution_count": null,
   "metadata": {},
   "outputs": [],
   "source": [
    "if df_haushaltstyp is not None:\n",
    "    print(\"AUSGABEN NACH HAUSHALTSTYP - Überprüfung\")\n",
    "    df_haushaltstyp.info()\n",
    "    display(df_haushaltstyp.head())\n",
    "    if 'haushaltstyp' in df_haushaltstyp.columns:\n",
    "        print(\"Haushaltstypen:\", df_haushaltstyp['haushaltstyp'].unique())"
   ]
  },
  {
   "cell_type": "markdown",
   "metadata": {},
   "source": [
    "---\n",
    "\n",
    "## 2. Gesamtausgabenentwicklung (FA-02.2) <a id='2-gesamtausgaben'></a>"
   ]
  },
  {
   "cell_type": "code",
   "execution_count": null,
   "metadata": {},
   "outputs": [],
   "source": [
    "if df_gesamt is not None and 'periode' in df_gesamt.columns and 'betrag_chf' in df_gesamt.columns:\n",
    "    ausgaben_pro_jahr = df_gesamt.groupby('periode')['betrag_chf'].sum().reset_index()\n",
    "    ausgaben_pro_jahr.columns = ['jahr', 'gesamtausgaben_chf']\n",
    "    ausgaben_pro_jahr['veraenderung_prozent'] = ausgaben_pro_jahr['gesamtausgaben_chf'].pct_change() * 100\n",
    "    ausgaben_pro_jahr['veraenderung_absolut'] = ausgaben_pro_jahr['gesamtausgaben_chf'].diff()\n",
    "    \n",
    "    print(\"GESAMTAUSGABENENTWICKLUNG 2006-2022\")\n",
    "    print(\"=\"*80)\n",
    "    display(ausgaben_pro_jahr)\n",
    "    \n",
    "    if len(ausgaben_pro_jahr) > 1:\n",
    "        erste_jahr = ausgaben_pro_jahr.iloc[0]\n",
    "        letzte_jahr = ausgaben_pro_jahr.iloc[-1]\n",
    "        gesamtwachstum = ((letzte_jahr['gesamtausgaben_chf'] - erste_jahr['gesamtausgaben_chf']) / erste_jahr['gesamtausgaben_chf'] * 100)\n",
    "        \n",
    "        print(f\"Ausgaben {int(erste_jahr['jahr'])}: CHF {erste_jahr['gesamtausgaben_chf']:,.2f}\")\n",
    "        print(f\"Ausgaben {int(letzte_jahr['jahr'])}: CHF {letzte_jahr['gesamtausgaben_chf']:,.2f}\")\n",
    "        print(f\"Gesamtwachstum: {gesamtwachstum:.2f}%\")\n",
    "        print(f\"Durchschnittliches Wachstum: {ausgaben_pro_jahr['veraenderung_prozent'].mean():.2f}%\")\n",
    "else:\n",
    "    print(\"Daten für Gesamtausgabenentwicklung nicht verfügbar\")"
   ]
  },
  {
   "cell_type": "markdown",
   "metadata": {},
   "source": [
    "---\n",
    "\n",
    "## 3. Analyse nach Altersgruppen (FA-02.3) <a id='3-altersgruppen'></a>"
   ]
  },
  {
   "cell_type": "code",
   "execution_count": null,
   "metadata": {},
   "outputs": [],
   "source": [
    "if df_alter is not None and 'altersgruppe' in df_alter.columns and 'betrag_chf' in df_alter.columns:\n",
    "    ausgaben_nach_alter = df_alter.groupby('altersgruppe')['betrag_chf'].agg([('durchschnitt_chf', 'mean'), ('summe_chf', 'sum'), ('anzahl_eintraege', 'count')]).reset_index()\n",
    "    ausgaben_nach_alter = ausgaben_nach_alter.sort_values('durchschnitt_chf', ascending=False)\n",
    "    \n",
    "    print(\"AUSGABEN NACH ALTERSGRUPPEN\")\n",
    "    print(\"=\"*80)\n",
    "    display(ausgaben_nach_alter)\n",
    "    \n",
    "    hoechste_gruppe = ausgaben_nach_alter.iloc[0]\n",
    "    niedrigste_gruppe = ausgaben_nach_alter.iloc[-1]\n",
    "    \n",
    "    print(f\"Altersgruppe mit HÖCHSTEN Ausgaben: {hoechste_gruppe['altersgruppe']}\")\n",
    "    print(f\"  Durchschnitt: CHF {hoechste_gruppe['durchschnitt_chf']:,.2f}\")\n",
    "    print(f\"Altersgruppe mit NIEDRIGSTEN Ausgaben: {niedrigste_gruppe['altersgruppe']}\")\n",
    "    print(f\"  Durchschnitt: CHF {niedrigste_gruppe['durchschnitt_chf']:,.2f}\")\n",
    "else:\n",
    "    print(\"Daten für Altersgruppen-Analyse nicht verfügbar\")"
   ]
  },
  {
   "cell_type": "markdown",
   "metadata": {},
   "source": [
    "---\n",
    "\n",
    "## 4. Analyse nach Haushaltstyp (FA-02.4) <a id='4-haushaltstyp'></a>"
   ]
  },
  {
   "cell_type": "code",
   "execution_count": null,
   "metadata": {},
   "outputs": [],
   "source": [
    "if df_haushaltstyp is not None and 'haushaltstyp' in df_haushaltstyp.columns and 'betrag_chf' in df_haushaltstyp.columns:\n",
    "    ausgaben_nach_haushalt = df_haushaltstyp.groupby('haushaltstyp')['betrag_chf'].agg([('durchschnitt_chf', 'mean'), ('summe_chf', 'sum'), ('anzahl_eintraege', 'count')]).reset_index()\n",
    "    ausgaben_nach_haushalt = ausgaben_nach_haushalt.sort_values('durchschnitt_chf', ascending=False)\n",
    "    \n",
    "    print(\"AUSGABEN NACH HAUSHALTSTYP\")\n",
    "    print(\"=\"*80)\n",
    "    display(ausgaben_nach_haushalt)\n",
    "else:\n",
    "    print(\"Daten für Haushaltstyp-Analyse nicht verfügbar\")"
   ]
  },
  {
   "cell_type": "code",
   "execution_count": null,
   "metadata": {},
   "outputs": [],
   "source": [
    "if df_haushaltstyp is not None and 'haushaltstyp' in df_haushaltstyp.columns and 'kategorie' in df_haushaltstyp.columns:\n",
    "    haushaltstypen_unique = df_haushaltstyp['haushaltstyp'].unique()\n",
    "    print(\"Verfügbare Haushaltstypen:\", haushaltstypen_unique)\n",
    "    \n",
    "    familie_typen = [ht for ht in haushaltstypen_unique if 'familie' in str(ht).lower() or 'paar mit kind' in str(ht).lower()]\n",
    "    single_typen = [ht for ht in haushaltstypen_unique if 'single' in str(ht).lower() or 'einpersonenhaushalt' in str(ht).lower() or '1 person' in str(ht).lower()]\n",
    "    \n",
    "    if familie_typen:\n",
    "        df_familie = df_haushaltstyp[df_haushaltstyp['haushaltstyp'].isin(familie_typen)]\n",
    "        top_kategorien_familie = df_familie.groupby('kategorie')['betrag_chf'].mean().sort_values(ascending=False).head(3)\n",
    "        print(\"TOP 3 AUSGABENKATEGORIEN - FAMILIE\")\n",
    "        for idx, (kategorie, betrag) in enumerate(top_kategorien_familie.items(), 1):\n",
    "            print(f\"{idx}. {kategorie}: CHF {betrag:,.2f}\")\n",
    "    \n",
    "    if single_typen:\n",
    "        df_single = df_haushaltstyp[df_haushaltstyp['haushaltstyp'].isin(single_typen)]\n",
    "        top_kategorien_single = df_single.groupby('kategorie')['betrag_chf'].mean().sort_values(ascending=False).head(3)\n",
    "        print(\"TOP 3 AUSGABENKATEGORIEN - SINGLE\")\n",
    "        for idx, (kategorie, betrag) in enumerate(top_kategorien_single.items(), 1):\n",
    "            print(f\"{idx}. {kategorie}: CHF {betrag:,.2f}\")"
   ]
  },
  {
   "cell_type": "markdown",
   "metadata": {},
   "source": [
    "---\n",
    "\n",
    "## 5. Top-Wachstumskategorien (FA-02.5) <a id='5-wachstum'></a>"
   ]
  },
  {
   "cell_type": "code",
   "execution_count": null,
   "metadata": {},
   "outputs": [],
   "source": [
    "if df_gesamt is not None and 'periode' in df_gesamt.columns and 'kategorie' in df_gesamt.columns:\n",
    "    df_2006 = df_gesamt[df_gesamt['periode'] == 2006].groupby('kategorie')['betrag_chf'].mean()\n",
    "    df_2022 = df_gesamt[df_gesamt['periode'] == 2022].groupby('kategorie')['betrag_chf'].mean()\n",
    "    \n",
    "    wachstum_kategorien = pd.DataFrame({'mittelwert_2006': df_2006, 'mittelwert_2022': df_2022})\n",
    "    wachstum_kategorien['veraenderung_prozent'] = ((wachstum_kategorien['mittelwert_2022'] - wachstum_kategorien['mittelwert_2006']) / wachstum_kategorien['mittelwert_2006'] * 100)\n",
    "    wachstum_kategorien = wachstum_kategorien.sort_values('veraenderung_prozent', ascending=False)\n",
    "    \n",
    "    print(\"TOP 5 WACHSTUMSKATEGORIEN 2006-2022\")\n",
    "    print(\"=\"*80)\n",
    "    top_5_wachstum = wachstum_kategorien.head(5)\n",
    "    display(top_5_wachstum)\n",
    "    \n",
    "    for idx, (kategorie, row) in enumerate(top_5_wachstum.iterrows(), 1):\n",
    "        print(f\"{idx}. {kategorie}: {row['veraenderung_prozent']:.2f}% Wachstum\")\n",
    "else:\n",
    "    print(\"Daten für Wachstumsanalyse nicht verfügbar\")"
   ]
  },
  {
   "cell_type": "markdown",
   "metadata": {},
   "source": [
    "---\n",
    "\n",
    "## 6. Statistische Kennzahlen (FA-02.6) <a id='6-statistik'></a>"
   ]
  },
  {
   "cell_type": "code",
   "execution_count": null,
   "metadata": {},
   "outputs": [],
   "source": [
    "if df_gesamt is not None and 'kategorie' in df_gesamt.columns:\n",
    "    interessante_kategorie = 'Wohnen'\n",
    "    \n",
    "    if interessante_kategorie in df_gesamt['kategorie'].values:\n",
    "        df_wohnen = df_gesamt[df_gesamt['kategorie'] == interessante_kategorie]\n",
    "        \n",
    "        print(f\"STATISTISCHE KENNZAHLEN - Kategorie: {interessante_kategorie}\")\n",
    "        print(\"=\"*80)\n",
    "        display(df_wohnen['betrag_chf'].describe())\n",
    "    else:\n",
    "        print(f\"Kategorie '{interessante_kategorie}' nicht in Daten gefunden\")\n",
    "        print(\"Verfügbare Kategorien:\", df_gesamt['kategorie'].unique()[:10])\n",
    "else:\n",
    "    print(\"Daten für statistische Analyse nicht verfügbar\")"
   ]
  },
  {
   "cell_type": "markdown",
   "metadata": {},
   "source": [
    "---\n",
    "\n",
    "## 7. Export der Analyseergebnisse (FA-02.7) <a id='7-export'></a>"
   ]
  },
  {
   "cell_type": "code",
   "execution_count": null,
   "metadata": {},
   "outputs": [],
   "source": [
    "if 'wachstum_kategorien' in locals():\n",
    "    wachstum_kategorien_export = wachstum_kategorien.reset_index()\n",
    "    wachstum_kategorien_export.columns = ['kategorie', 'mittelwert_2006', 'mittelwert_2022', 'veraenderung_prozent']\n",
    "    \n",
    "    output_file = OUTPUT_TABLES_DIR / 'zusammenfassung.csv'\n",
    "    wachstum_kategorien_export.to_csv(output_file, index=False, encoding='utf-8')\n",
    "    \n",
    "    print(\"EXPORT ERFOLGREICH\")\n",
    "    print(\"=\"*80)\n",
    "    print(f\"Datei gespeichert: {output_file}\")\n",
    "    print(f\"Anzahl Zeilen: {len(wachstum_kategorien_export)}\")\n",
    "    \n",
    "    print(\"Erste Zeilen der exportierten Daten:\")\n",
    "    display(wachstum_kategorien_export.head(10))\n",
    "else:\n",
    "    print(\"Keine Wachstumsdaten zum Export verfügbar\")"
   ]
  },
  {
   "cell_type": "markdown",
   "metadata": {},
   "source": [
    "---\n",
    "\n",
    "## 8. Zusammenfassung <a id='8-zusammenfassung'></a>\n",
    "\n",
    "### Durchgeführte Schritte\n",
    "\n",
    "In diesem Notebook wurden folgende Aufgaben erfolgreich durchgeführt:\n",
    "\n",
    "1. **FA-02.1:** Bereinigte Daten aus CSV-Dateien geladen\n",
    "2. **FA-02.2:** Gesamtausgabenentwicklung 2006-2022 analysiert\n",
    "3. **FA-02.3:** Ausgaben nach Altersgruppen analysiert\n",
    "4. **FA-02.4:** Ausgaben nach Haushaltstyp verglichen\n",
    "5. **FA-02.5:** Top-Wachstumskategorien identifiziert\n",
    "6. **FA-02.6:** Statistische Kennzahlen berechnet\n",
    "7. **FA-02.7:** Analyseergebnisse als CSV exportiert\n",
    "\n",
    "### Ausgabedateien\n",
    "\n",
    "Die folgende CSV-Datei wurde im Ordner `outputs/tables/` erstellt:\n",
    "\n",
    "- `zusammenfassung.csv` - Wachstumsanalyse 2006-2022\n",
    "\n",
    "### Nächste Schritte\n",
    "\n",
    "Die Analyseergebnisse sind nun bereit für:\n",
    "\n",
    "- **Notebook 3:** Visualisierung (FA-03)\n",
    "- **Notebook 4:** Business Case Dokumentation (FA-04)"
   ]
  }
 ],
 "metadata": {
  "kernelspec": {
   "display_name": "Python 3",
   "language": "python",
   "name": "python3"
  },
  "language_info": {
   "codemirror_mode": {
    "name": "ipython",
    "version": 3
   },
   "file_extension": ".py",
   "mimetype": "text/x-python",
   "name": "python",
   "nbconvert_exporter": "python",
   "pygments_lexer": "ipython3",
   "version": "3.8.0"
  }
 },
 "nbformat": 4,
 "nbformat_minor": 4
}
